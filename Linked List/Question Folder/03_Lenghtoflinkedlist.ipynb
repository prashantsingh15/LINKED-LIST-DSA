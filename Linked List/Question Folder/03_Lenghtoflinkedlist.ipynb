{
 "cells": [
  {
   "cell_type": "markdown",
   "metadata": {},
   "source": [
    "For a given singly linked list of integers, find and return its length. Do it using an iterative method.\n",
    "Input format :\n",
    "The first line contains an Integer 't' which denotes the number of test cases or queries to be run. Then the test cases follow.\n",
    "\n",
    "First and the only line of each test case or query contains elements of the singly linked list separated by a single space. \n",
    " Remember/Consider :\n",
    "While specifying the list elements for input, -1 indicates the end of the singly linked list and hence, would never be a list element."
   ]
  },
  {
   "cell_type": "code",
   "execution_count": 1,
   "metadata": {},
   "outputs": [],
   "source": [
    "from sys import stdin"
   ]
  },
  {
   "cell_type": "code",
   "execution_count": 3,
   "metadata": {},
   "outputs": [],
   "source": [
    "class Node:\n",
    "    def __init__(self,data) -> None:\n",
    "        self.data=data\n",
    "        self.next=None\n",
    "        \n",
    "def length(head):\n",
    "    count=0\n",
    "    while head is not None:\n",
    "        count +=1\n",
    "        head=head.next\n",
    "\n",
    "\n",
    "    return count"
   ]
  },
  {
   "cell_type": "code",
   "execution_count": 4,
   "metadata": {},
   "outputs": [],
   "source": [
    "def takeInput() :\n",
    "    head = None\n",
    "    tail = None\n",
    "\n",
    "    datas = list(map(int, stdin.readline().rstrip().split(\" \")))\n",
    "\n",
    "    i = 0\n",
    "    while (i < len(datas)) and (datas[i] != -1) :\n",
    "        data = datas[i]\n",
    "        newNode = Node(data)\n",
    "\n",
    "        if head is None :\n",
    "            head = newNode\n",
    "            tail = newNode\n",
    "\n",
    "        else :\n",
    "            tail.next = newNode\n",
    "            tail = newNode\n",
    "\n",
    "        i += 1\n",
    "\n",
    "    return head"
   ]
  },
  {
   "cell_type": "code",
   "execution_count": 5,
   "metadata": {},
   "outputs": [],
   "source": [
    "def printLinkedList(head) :\n",
    "\n",
    "    while head is not None :\n",
    "        print(head.data, end = \" \")\n",
    "        head = head.next\n",
    "\n",
    "    print()"
   ]
  },
  {
   "cell_type": "code",
   "execution_count": null,
   "metadata": {},
   "outputs": [],
   "source": [
    "t = int(stdin.readline().rstrip())\n",
    "\n",
    "while t > 0 :\n",
    "\n",
    "    head = takeInput()\n",
    "    print(length(head))\n",
    "\n",
    "    t -= 1"
   ]
  }
 ],
 "metadata": {
  "kernelspec": {
   "display_name": "Python 3.9.12 ('base')",
   "language": "python",
   "name": "python3"
  },
  "language_info": {
   "codemirror_mode": {
    "name": "ipython",
    "version": 3
   },
   "file_extension": ".py",
   "mimetype": "text/x-python",
   "name": "python",
   "nbconvert_exporter": "python",
   "pygments_lexer": "ipython3",
   "version": "3.9.12"
  },
  "orig_nbformat": 4,
  "vscode": {
   "interpreter": {
    "hash": "e4abcd0df340a594effa82bcbf617a3d481270f90641c881f508b0a532b65559"
   }
  }
 },
 "nbformat": 4,
 "nbformat_minor": 2
}
