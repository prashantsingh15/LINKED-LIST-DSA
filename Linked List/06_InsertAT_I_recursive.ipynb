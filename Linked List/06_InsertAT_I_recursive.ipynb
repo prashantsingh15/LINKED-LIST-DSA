{
 "cells": [
  {
   "cell_type": "code",
   "execution_count": 5,
   "metadata": {},
   "outputs": [],
   "source": [
    "class Node:\n",
    "    def __init__(self,data):\n",
    "        self.data=data\n",
    "        self.next=None\n",
    "def printLL(head):\n",
    "    while head is not None:\n",
    "        print(str(head.data)+\"->\",end='')\n",
    "        head=head.next\n",
    "    print(\"None\")\n",
    "    return\n",
    "def length(head):\n",
    "    count=0\n",
    "    while head is not None:\n",
    "        count=count+1\n",
    "        head=head.next\n",
    "    return count\n",
    "def insertAtIR(head,i,data):\n",
    "    if i<0:\n",
    "        return head\n",
    "    if i==0:\n",
    "        newNode=Node(data)\n",
    "        newNode.next=head\n",
    "        return newNode\n",
    "    if head is None:\n",
    "        return None\n",
    "    smallHead=insertAtIR(head.next,i-1,data)\n",
    "    head.next=smallHead\n",
    "    return head\n",
    "def insertAtI(head,i,data):\n",
    "    if i<0 or i>length(head):\n",
    "        return head\n",
    "    count=0\n",
    "    prev=None\n",
    "    curr=head\n",
    "    while count<i:\n",
    "        \n",
    "        \n",
    "        prev=curr\n",
    "        curr=curr.next\n",
    "        count=count+1\n",
    "    newNode=Node(data)\n",
    "    if prev is not None:\n",
    "        prev.next=newNode\n",
    "    else:\n",
    "        head=newNode\n",
    "    \n",
    "    newNode.next=curr\n",
    "    return head\n",
    "def takeInput():\n",
    "    inputList=[int (ele) for ele in input().split()]\n",
    "    head=None\n",
    "    tail=None\n",
    "    for currData in inputList:\n",
    "        if currData==-1:\n",
    "            break\n",
    "        newNode=Node(currData)\n",
    "        if head is None:\n",
    "            head=newNode\n",
    "            tail=newNode\n",
    "        else:\n",
    "            tail.next=newNode\n",
    "            tail=newNode\n",
    "    return head"
   ]
  },
  {
   "cell_type": "code",
   "execution_count": 6,
   "metadata": {},
   "outputs": [
    {
     "name": "stdout",
     "output_type": "stream",
     "text": [
      "1->2->3->4->5->None\n",
      "1->2->6->3->4->5->None\n",
      "9->1->2->6->3->4->5->None\n",
      "9->1->2->6->3->4->5->10->None\n"
     ]
    }
   ],
   "source": [
    "head=takeInput()\n",
    "printLL(head)\n",
    "head=insertAtIR(head,2,6)\n",
    "printLL(head)\n",
    "head=insertAtIR(head,0,9)\n",
    "printLL(head)\n",
    "head=insertAtIR(head,7,10)\n",
    "printLL(head)"
   ]
  }
 ],
 "metadata": {
  "kernelspec": {
   "display_name": "Python 3.9.13 ('base')",
   "language": "python",
   "name": "python3"
  },
  "language_info": {
   "codemirror_mode": {
    "name": "ipython",
    "version": 3
   },
   "file_extension": ".py",
   "mimetype": "text/x-python",
   "name": "python",
   "nbconvert_exporter": "python",
   "pygments_lexer": "ipython3",
   "version": "3.9.13"
  },
  "orig_nbformat": 4,
  "vscode": {
   "interpreter": {
    "hash": "19e3ed3879c13a0a3709fc77aecbc5c79d8539dfda6d4462a1c416bc4ea67350"
   }
  }
 },
 "nbformat": 4,
 "nbformat_minor": 2
}
