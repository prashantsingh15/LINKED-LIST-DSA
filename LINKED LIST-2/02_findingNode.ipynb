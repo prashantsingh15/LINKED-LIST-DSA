{
 "cells": [
  {
   "cell_type": "code",
   "execution_count": null,
   "metadata": {},
   "outputs": [],
   "source": [
    "\"\"\"  \n",
    "    Time Complexity : O(N)\n",
    "    Space Complexity : O(N)\n",
    "\n",
    "    Where 'N' is the size of singly linked list.\n",
    "\"\"\"\n",
    "\n",
    "from sys import stdin,setrecursionlimit\n",
    "setrecursionlimit(10**7)\n",
    "\n",
    "class Node :\n",
    "    def __init__(self, data) :\n",
    "        self.data = data\n",
    "        self.next = None\n",
    "\n",
    "def findNode(head, n):\n",
    "    \n",
    "    if(head == None):\n",
    "        return -1\n",
    "\n",
    "    \n",
    "    if(head.data == n):\n",
    "        return 0\n",
    "\n",
    "    \n",
    "    smallAns = findNode(head.next, n)\n",
    "\n",
    "    \n",
    "    if(smallAns != -1):\n",
    "        return smallAns + 1\n",
    "\n",
    "    return -1"
   ]
  }
 ],
 "metadata": {
  "kernelspec": {
   "display_name": "Python 3.9.13 ('base')",
   "language": "python",
   "name": "python3"
  },
  "language_info": {
   "name": "python",
   "version": "3.9.13"
  },
  "orig_nbformat": 4,
  "vscode": {
   "interpreter": {
    "hash": "19e3ed3879c13a0a3709fc77aecbc5c79d8539dfda6d4462a1c416bc4ea67350"
   }
  }
 },
 "nbformat": 4,
 "nbformat_minor": 2
}
