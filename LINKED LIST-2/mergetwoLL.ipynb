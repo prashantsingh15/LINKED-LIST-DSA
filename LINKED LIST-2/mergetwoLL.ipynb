{
 "cells": [
  {
   "cell_type": "code",
   "execution_count": null,
   "metadata": {},
   "outputs": [],
   "source": [
    "from sys import stdin, setrecursionlimit\n",
    "setrecursionlimit(10 ** 6)\n",
    "\n",
    "#Following is the Node class already written for the Linked List\n",
    "class Node :\n",
    "    def __init__(self, data) :\n",
    "        self.data = data\n",
    "        self.next = None\n",
    "\n",
    "\n",
    "def sortedMerge(a,b):\n",
    "    result=None\n",
    "    if a==None:\n",
    "        return b\n",
    "    if b==None:\n",
    "        return a\n",
    "    if a.data<=b.data:\n",
    "        result=a\n",
    "        result.next=sortedMerge(a.next,b)\n",
    "    else:\n",
    "        result=b\n",
    "        result.next=sortedMerge(a,b.next)\n",
    "    return result\n",
    "    \n",
    "def mergeSort(head) :\n",
    "    if head==None or head.next==None:\n",
    "        return head\n",
    "    middle=getMiddle(head)\n",
    "    nexttomiddle=middle.next\n",
    "    middle.next=None\n",
    "    left=mergeSort(head)\n",
    "    right=mergeSort(nexttomiddle)\n",
    "    sortedlist=sortedMerge(left,right)\n",
    "    return sortedlist\n",
    "\n",
    "    \n",
    "def getMiddle(head):\n",
    "    if(head==None):\n",
    "        return head\n",
    "    slow=head\n",
    "    fast=head\n",
    "    while(fast.next!=None and fast.next.next!=None):\n",
    "        slow=slow.next\n",
    "        fast=fast.next.next\n",
    "    return slow\n",
    "    "
   ]
  }
 ],
 "metadata": {
  "language_info": {
   "name": "python"
  },
  "orig_nbformat": 4
 },
 "nbformat": 4,
 "nbformat_minor": 2
}
